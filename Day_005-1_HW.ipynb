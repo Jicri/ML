{
 "cells": [
  {
   "cell_type": "code",
   "execution_count": 1,
   "id": "bed25550",
   "metadata": {},
   "outputs": [
    {
     "data": {
      "text/html": [
       "<div>\n",
       "<style scoped>\n",
       "    .dataframe tbody tr th:only-of-type {\n",
       "        vertical-align: middle;\n",
       "    }\n",
       "\n",
       "    .dataframe tbody tr th {\n",
       "        vertical-align: top;\n",
       "    }\n",
       "\n",
       "    .dataframe thead th {\n",
       "        text-align: right;\n",
       "    }\n",
       "</style>\n",
       "<table border=\"1\" class=\"dataframe\">\n",
       "  <thead>\n",
       "    <tr style=\"text-align: right;\">\n",
       "      <th></th>\n",
       "      <th>country</th>\n",
       "      <th>population</th>\n",
       "      <th>Tag</th>\n",
       "    </tr>\n",
       "  </thead>\n",
       "  <tbody>\n",
       "    <tr>\n",
       "      <th>0</th>\n",
       "      <td>Taiwan</td>\n",
       "      <td>442471256</td>\n",
       "      <td>A</td>\n",
       "    </tr>\n",
       "    <tr>\n",
       "      <th>1</th>\n",
       "      <td>Japan</td>\n",
       "      <td>68579009</td>\n",
       "      <td>A</td>\n",
       "    </tr>\n",
       "    <tr>\n",
       "      <th>2</th>\n",
       "      <td>China</td>\n",
       "      <td>803771569</td>\n",
       "      <td>A</td>\n",
       "    </tr>\n",
       "    <tr>\n",
       "      <th>3</th>\n",
       "      <td>America</td>\n",
       "      <td>98465260</td>\n",
       "      <td>A</td>\n",
       "    </tr>\n",
       "  </tbody>\n",
       "</table>\n",
       "</div>"
      ],
      "text/plain": [
       "   country  population Tag\n",
       "0   Taiwan   442471256   A\n",
       "1    Japan    68579009   A\n",
       "2    China   803771569   A\n",
       "3  America    98465260   A"
      ]
     },
     "execution_count": 1,
     "metadata": {},
     "output_type": "execute_result"
    }
   ],
   "source": [
    "#作業5-1\n",
    "import pandas as pd\n",
    "import numpy as np\n",
    "\n",
    "Tags=['A','A','A','A']\n",
    "countrys=['Taiwan','Japan','China','America']\n",
    "populations=[np.random.randint(0,10**9),np.random.randint(0,10**9),np.random.randint(0,10**9),np.random.randint(0,10**9)]\n",
    "\n",
    "\n",
    "list_labels = ['country','population','Tag'] #欄位名稱\n",
    "list_cols = [countrys,populations,Tags] #欄位內容\n",
    "\n",
    "zipped=list(zip(list_labels,list_cols)) #將\"欄位名稱\" 以及 \"欄位內容\" 合併\n",
    "list(zip(list_labels,list_cols)) # show 出來\n",
    "\n",
    "person = pd.DataFrame(dict(zipped)) #將list->dict->dataframe\n",
    "person"
   ]
  },
  {
   "cell_type": "code",
   "execution_count": 2,
   "id": "0cc85f21",
   "metadata": {},
   "outputs": [
    {
     "data": {
      "text/plain": [
       "2    China\n",
       "Name: country, dtype: object"
      ]
     },
     "execution_count": 2,
     "metadata": {},
     "output_type": "execute_result"
    }
   ],
   "source": [
    "#person.groupby(by='Tag')['population'].max() # 比較爛的方法XD\n",
    "person[person['population'] == person['population'].max()]['country'] #找出Dataframe population 最大的"
   ]
  },
  {
   "cell_type": "code",
   "execution_count": null,
   "id": "8ebcadbc",
   "metadata": {},
   "outputs": [],
   "source": []
  }
 ],
 "metadata": {
  "kernelspec": {
   "display_name": "Python 3",
   "language": "python",
   "name": "python3"
  },
  "language_info": {
   "codemirror_mode": {
    "name": "ipython",
    "version": 3
   },
   "file_extension": ".py",
   "mimetype": "text/x-python",
   "name": "python",
   "nbconvert_exporter": "python",
   "pygments_lexer": "ipython3",
   "version": "3.8.8"
  }
 },
 "nbformat": 4,
 "nbformat_minor": 5
}
