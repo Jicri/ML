{
 "cells": [
  {
   "cell_type": "code",
   "execution_count": null,
   "id": "2fc27d64",
   "metadata": {},
   "outputs": [],
   "source": [
    "#我認為機器學習可以在\"鷹眼\"的表現上在更好，目前球類鷹眼的使用大部分都是在網球\n",
    "#但除了網球外，桌球的擦邊球以及棒球的好球帶其實在很多時候也是很有爭議\n",
    "#將機器學習應用在影像辨識上，判決可以更精確信任度會更高"
   ]
  }
 ],
 "metadata": {
  "kernelspec": {
   "display_name": "Python 3",
   "language": "python",
   "name": "python3"
  },
  "language_info": {
   "codemirror_mode": {
    "name": "ipython",
    "version": 3
   },
   "file_extension": ".py",
   "mimetype": "text/x-python",
   "name": "python",
   "nbconvert_exporter": "python",
   "pygments_lexer": "ipython3",
   "version": "3.8.8"
  }
 },
 "nbformat": 4,
 "nbformat_minor": 5
}
