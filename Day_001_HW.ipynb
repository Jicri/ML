{
 "cells": [
  {
   "cell_type": "code",
   "execution_count": 7,
   "id": "626b782a",
   "metadata": {},
   "outputs": [],
   "source": [
    "#[作業一]\n",
    "import numpy as np\n",
    "import matplotlib.pyplot as plt\n",
    "\n",
    "def Mean_Square_Error(y,yp):\n",
    "    mse=sum((y - yp)**2) / len(y)\n",
    "    return mse"
   ]
  },
  {
   "cell_type": "code",
   "execution_count": null,
   "id": "31908fb2",
   "metadata": {},
   "outputs": [],
   "source": [
    "#[作業二]\n",
    "#2021年東京奧運會\n",
    "#1.運動在各國都有不同的專項，可從資料上判斷對各項運動的冷熱門程度，\n",
    "#2.東京奧運會網站\n",
    "#3.結構化的資料型態:列表\n",
    "#4.可用報名參加率當作評估標準"
   ]
  },
  {
   "cell_type": "code",
   "execution_count": null,
   "id": "0c44340a",
   "metadata": {},
   "outputs": [],
   "source": [
    "#[作業三]\n",
    "1.#如何有穩定的客源(人口密集處才有足夠穩定的母數)\n",
    "2.#各地區的人口分佈(內政部可找到相關資料)\n",
    "3.#以結構化的資料型態:列表為主\n",
    "4.#可用人口密度分布當作參考"
   ]
  }
 ],
 "metadata": {
  "kernelspec": {
   "display_name": "Python 3",
   "language": "python",
   "name": "python3"
  },
  "language_info": {
   "codemirror_mode": {
    "name": "ipython",
    "version": 3
   },
   "file_extension": ".py",
   "mimetype": "text/x-python",
   "name": "python",
   "nbconvert_exporter": "python",
   "pygments_lexer": "ipython3",
   "version": "3.8.8"
  }
 },
 "nbformat": 4,
 "nbformat_minor": 5
}
