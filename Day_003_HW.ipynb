{
 "cells": [
  {
   "cell_type": "code",
   "execution_count": null,
   "id": "bef4bc6e",
   "metadata": {},
   "outputs": [],
   "source": [
    "1.#作業 1：目標:1.分辨是哪一隻doll 2.如果是，是哪一隻\n",
    "2.#作業 2：方法:Supervised Machine learning-Image Classification\n",
    "3.#資料來源？ 作者女兒的all doll"
   ]
  }
 ],
 "metadata": {
  "kernelspec": {
   "display_name": "Python 3",
   "language": "python",
   "name": "python3"
  },
  "language_info": {
   "codemirror_mode": {
    "name": "ipython",
    "version": 3
   },
   "file_extension": ".py",
   "mimetype": "text/x-python",
   "name": "python",
   "nbconvert_exporter": "python",
   "pygments_lexer": "ipython3",
   "version": "3.8.8"
  }
 },
 "nbformat": 4,
 "nbformat_minor": 5
}
